{
 "cells": [
  {
   "cell_type": "markdown",
   "metadata": {},
   "source": [
    "导入python库"
   ]
  },
  {
   "cell_type": "code",
   "execution_count": 16,
   "metadata": {},
   "outputs": [],
   "source": [
    "import numpy as np\n",
    "import pandas as pd\n",
    "from sklearn import tree\n",
    "from sklearn.model_selection  import train_test_split\n",
    "\n",
    "features = list()  #存放特征\n",
    "labels = list()    #存放分类标签"
   ]
  },
  {
   "cell_type": "markdown",
   "metadata": {},
   "source": [
    "#练习一\n",
    "\n",
    "导入Iris_Data.csv文件,将特征存入列表features"
   ]
  },
  {
   "cell_type": "code",
   "execution_count": 17,
   "metadata": {},
   "outputs": [],
   "source": [
    "data=pd.read_csv('.\\Iris_Data.csv')\n",
    "ln=data.shape[0]\n",
    "data_list=[]\n",
    "for i in range(ln):\n",
    "    temp=[]\n",
    "    for n in data:\n",
    "        if n == 'species':\n",
    "            break\n",
    "        a=data.loc[i,n]\n",
    "        temp.append(a)\n",
    "    data_list.append(temp)\n",
    "    #print(temp)"
   ]
  },
  {
   "cell_type": "markdown",
   "metadata": {},
   "source": [
    "#练习二\n",
    "\n",
    "将标签存入labels"
   ]
  },
  {
   "cell_type": "code",
   "execution_count": 18,
   "metadata": {},
   "outputs": [],
   "source": [
    "label=[]\n",
    "for i in range(ln):\n",
    "    for n in data:\n",
    "        if n == 'species':\n",
    "            label.append(data.loc[i,n])\n",
    "            break"
   ]
  },
  {
   "cell_type": "markdown",
   "metadata": {},
   "source": [
    "#练习三\n",
    "\n",
    "分层随机打乱测试集和训练集"
   ]
  },
  {
   "cell_type": "code",
   "execution_count": 19,
   "metadata": {},
   "outputs": [],
   "source": [
    "feature_train,feature_test,label_train,label_test=train_test_split(data_list,label,test_size=0.3,shuffle='species')\n",
    "#print(feature_train)\n",
    "#print(feature_test)\n",
    "#print(label_train)\n",
    "#print(label_test)"
   ]
  },
  {
   "cell_type": "markdown",
   "metadata": {},
   "source": [
    "#练习四\n",
    "\n",
    "利用决策树算法对模型进行训练，并算出准确率\n",
    "提示:  DSTree = tree.DecisionTreeClassifier(criterion='entropy')\n",
    "     DSTree.fit()\n",
    "     DSTree.predict()"
   ]
  },
  {
   "cell_type": "code",
   "execution_count": 20,
   "metadata": {},
   "outputs": [
    {
     "name": "stdout",
     "output_type": "stream",
     "text": [
      "0.9333333333333333\n"
     ]
    }
   ],
   "source": [
    "DSTree = tree.DecisionTreeClassifier(criterion='entropy')\n",
    "DSTree.fit(feature_train,label_train)\n",
    "acc=np.mean(DSTree.predict(feature_test)==label_test)\n",
    "print(acc)"
   ]
  },
  {
   "cell_type": "code",
   "execution_count": null,
   "metadata": {},
   "outputs": [],
   "source": []
  }
 ],
 "metadata": {
  "kernelspec": {
   "display_name": "Python 3",
   "language": "python",
   "name": "python3"
  },
  "language_info": {
   "codemirror_mode": {
    "name": "ipython",
    "version": 3
   },
   "file_extension": ".py",
   "mimetype": "text/x-python",
   "name": "python",
   "nbconvert_exporter": "python",
   "pygments_lexer": "ipython3",
   "version": "3.7.3"
  }
 },
 "nbformat": 4,
 "nbformat_minor": 2
}
